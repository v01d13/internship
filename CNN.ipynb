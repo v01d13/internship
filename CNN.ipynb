{
 "cells": [
  {
   "cell_type": "code",
   "execution_count": 1,
   "id": "8f036cf0",
   "metadata": {},
   "outputs": [],
   "source": [
    "## Import the libraries\n",
    "import tensorflow as tf\n",
    "from keras.preprocessing import image\n",
    "import numpy as np\n",
    "from keras.preprocessing.image import ImageDataGenerator\n",
    "from tensorflow.python.client import device_lib\n",
    "import matplotlib.pyplot as plt\n",
    "import os\n",
    "import glob\n",
    "import cv2\n",
    "from pathlib import Path\n",
    "import pandas as pd\n",
    "import imgaug.augmenters as iaa\n",
    "from keras.models import Sequential\n",
    "from keras.layers import Dense, Conv2D, MaxPool2D , Flatten, Dropout, BatchNormalization, SeparableConv2D, GlobalMaxPooling1D"
   ]
  },
  {
   "cell_type": "code",
   "execution_count": 2,
   "id": "94c4b6d5",
   "metadata": {},
   "outputs": [
    {
     "data": {
      "text/plain": [
       "(1000, 2900)"
      ]
     },
     "execution_count": 2,
     "metadata": {},
     "output_type": "execute_result"
    }
   ],
   "source": [
    "num_images_train_normal = len(os.listdir(\"data/chest_xray/train/NORMAL\"))\n",
    "num_images_train_pneumonia = len(os.listdir(\"data/chest_xray/train/PNEUMONIA\"))\n",
    "\n",
    "num_images_train_normal, num_images_train_pneumonia"
   ]
  },
  {
   "cell_type": "code",
   "execution_count": 3,
   "id": "c3451b33",
   "metadata": {},
   "outputs": [
    {
     "name": "stdout",
     "output_type": "stream",
     "text": [
      "Found 3900 images belonging to 2 classes.\n"
     ]
    }
   ],
   "source": [
    "## Data augmentation using ImageDataGenerator\n",
    "train_datagen = ImageDataGenerator(rescale = 1 /255.0,\n",
    "                                   rotation_range = 7,\n",
    "                                   width_shift_range = 0.5,\n",
    "                                   height_shift_range = 0.45,\n",
    "                                   shear_range = 0.2,\n",
    "                                   zoom_range = 0.45,\n",
    "                                   horizontal_flip = True)\n",
    "training_set = train_datagen.flow_from_directory('data/chest_xray/train/',\n",
    "                                                 target_size = (64, 64),\n",
    "                                                 batch_size = 32,\n",
    "                                                 class_mode = 'binary',\n",
    "                                                 interpolation = \"nearest\",\n",
    "                                                 shuffle = True)"
   ]
  },
  {
   "cell_type": "code",
   "execution_count": 4,
   "id": "57815e9e",
   "metadata": {},
   "outputs": [
    {
     "name": "stdout",
     "output_type": "stream",
     "text": [
      "Found 1300 images belonging to 2 classes.\n"
     ]
    }
   ],
   "source": [
    "test_datagen = ImageDataGenerator(rescale = 1 / 255)\n",
    "test_set = test_datagen.flow_from_directory('data/chest_xray/test/',\n",
    "                                            target_size = (64, 64),\n",
    "                                            batch_size = 32,\n",
    "                                            class_mode = 'binary',\n",
    "                                            interpolation = \"nearest\",\n",
    "                                            shuffle = True)"
   ]
  },
  {
   "cell_type": "code",
   "execution_count": 5,
   "id": "67c0f05e",
   "metadata": {
    "scrolled": true
   },
   "outputs": [
    {
     "name": "stdout",
     "output_type": "stream",
     "text": [
      "Model: \"sequential\"\n",
      "_________________________________________________________________\n",
      "Layer (type)                 Output Shape              Param #   \n",
      "=================================================================\n",
      "conv2d (Conv2D)              (None, 64, 64, 32)        896       \n",
      "_________________________________________________________________\n",
      "batch_normalization (BatchNo (None, 64, 64, 32)        128       \n",
      "_________________________________________________________________\n",
      "max_pooling2d (MaxPooling2D) (None, 32, 32, 32)        0         \n",
      "_________________________________________________________________\n",
      "conv2d_1 (Conv2D)            (None, 32, 32, 64)        18496     \n",
      "_________________________________________________________________\n",
      "dropout (Dropout)            (None, 32, 32, 64)        0         \n",
      "_________________________________________________________________\n",
      "batch_normalization_1 (Batch (None, 32, 32, 64)        256       \n",
      "_________________________________________________________________\n",
      "max_pooling2d_1 (MaxPooling2 (None, 16, 16, 64)        0         \n",
      "_________________________________________________________________\n",
      "conv2d_2 (Conv2D)            (None, 16, 16, 64)        36928     \n",
      "_________________________________________________________________\n",
      "batch_normalization_2 (Batch (None, 16, 16, 64)        256       \n",
      "_________________________________________________________________\n",
      "max_pooling2d_2 (MaxPooling2 (None, 8, 8, 64)          0         \n",
      "_________________________________________________________________\n",
      "conv2d_3 (Conv2D)            (None, 8, 8, 128)         73856     \n",
      "_________________________________________________________________\n",
      "dropout_1 (Dropout)          (None, 8, 8, 128)         0         \n",
      "_________________________________________________________________\n",
      "batch_normalization_3 (Batch (None, 8, 8, 128)         512       \n",
      "_________________________________________________________________\n",
      "max_pooling2d_3 (MaxPooling2 (None, 4, 4, 128)         0         \n",
      "_________________________________________________________________\n",
      "conv2d_4 (Conv2D)            (None, 4, 4, 256)         295168    \n",
      "_________________________________________________________________\n",
      "dropout_2 (Dropout)          (None, 4, 4, 256)         0         \n",
      "_________________________________________________________________\n",
      "batch_normalization_4 (Batch (None, 4, 4, 256)         1024      \n",
      "_________________________________________________________________\n",
      "max_pooling2d_4 (MaxPooling2 (None, 2, 2, 256)         0         \n",
      "_________________________________________________________________\n",
      "flatten (Flatten)            (None, 1024)              0         \n",
      "_________________________________________________________________\n",
      "dense (Dense)                (None, 128)               131200    \n",
      "_________________________________________________________________\n",
      "dropout_3 (Dropout)          (None, 128)               0         \n",
      "_________________________________________________________________\n",
      "dense_1 (Dense)              (None, 1)                 129       \n",
      "=================================================================\n",
      "Total params: 558,849\n",
      "Trainable params: 557,761\n",
      "Non-trainable params: 1,088\n",
      "_________________________________________________________________\n"
     ]
    }
   ],
   "source": [
    "## Building the CNN \n",
    "cnn = Sequential()\n",
    "cnn.add(Conv2D(32, (3, 3), strides = 1, padding = 'same', activation = tf.keras.layers.LeakyReLU(), input_shape=(64, 64, 3)))\n",
    "cnn.add(BatchNormalization())\n",
    "cnn.add(MaxPool2D((2, 2), strides = 2, padding = 'same'))\n",
    "cnn.add(Conv2D(64, (3, 3), strides = 1, padding = 'same', activation = tf.keras.layers.LeakyReLU()))\n",
    "cnn.add(Dropout(0.1))\n",
    "cnn.add(BatchNormalization())\n",
    "cnn.add(MaxPool2D((2, 2), strides = 2, padding = 'same'))\n",
    "cnn.add(Conv2D(64, (3, 3), strides = 1, padding = 'same', activation = tf.keras.layers.LeakyReLU()))\n",
    "cnn.add(BatchNormalization())\n",
    "cnn.add(MaxPool2D((2, 2), strides = 2, padding = 'same'))\n",
    "cnn.add(Conv2D(128, (3, 3), strides = 1, padding = 'same', activation = tf.keras.layers.LeakyReLU()))\n",
    "cnn.add(Dropout(0.2))\n",
    "cnn.add(BatchNormalization())\n",
    "cnn.add(MaxPool2D((2, 2), strides = 2, padding = 'same'))\n",
    "cnn.add(Conv2D(256, (3, 3), strides = 1, padding = 'same', activation = tf.keras.layers.LeakyReLU()))\n",
    "cnn.add(Dropout(0.2))\n",
    "cnn.add(BatchNormalization())\n",
    "cnn.add(MaxPool2D((2, 2), strides = 2, padding = 'same'))\n",
    "cnn.add(Flatten())\n",
    "cnn.add(Dense(units = 128, activation = tf.keras.layers.LeakyReLU()))\n",
    "cnn.add(Dropout(0.2))\n",
    "cnn.add(Dense(units = 1, activation = 'sigmoid'))\n",
    "cnn.compile(optimizer = 'Adam', loss = 'binary_crossentropy' , metrics = ['accuracy'])\n",
    "cnn.summary()"
   ]
  },
  {
   "cell_type": "code",
   "execution_count": 6,
   "id": "9d8acf26",
   "metadata": {
    "scrolled": true
   },
   "outputs": [
    {
     "name": "stdout",
     "output_type": "stream",
     "text": [
      "Epoch 1/10\n",
      "122/122 [==============================] - 40s 314ms/step - loss: 0.9251 - accuracy: 0.7241 - val_loss: 2.3462 - val_accuracy: 0.7438\n",
      "Epoch 2/10\n",
      "122/122 [==============================] - 38s 311ms/step - loss: 0.4032 - accuracy: 0.8220 - val_loss: 1.2639 - val_accuracy: 0.7438\n",
      "Epoch 3/10\n",
      "122/122 [==============================] - 38s 313ms/step - loss: 0.3635 - accuracy: 0.8358 - val_loss: 1.7251 - val_accuracy: 0.7438\n",
      "Epoch 4/10\n",
      "122/122 [==============================] - 40s 330ms/step - loss: 0.3591 - accuracy: 0.8416 - val_loss: 2.1382 - val_accuracy: 0.7438\n",
      "Epoch 5/10\n",
      "122/122 [==============================] - 44s 360ms/step - loss: 0.3421 - accuracy: 0.8539 - val_loss: 0.8819 - val_accuracy: 0.6631\n",
      "Epoch 6/10\n",
      "122/122 [==============================] - 46s 374ms/step - loss: 0.3093 - accuracy: 0.8677 - val_loss: 1.2104 - val_accuracy: 0.7500\n",
      "Epoch 7/10\n",
      "122/122 [==============================] - 45s 372ms/step - loss: 0.3210 - accuracy: 0.8582 - val_loss: 3.4865 - val_accuracy: 0.3831\n",
      "Epoch 8/10\n",
      "122/122 [==============================] - 45s 372ms/step - loss: 0.2997 - accuracy: 0.8730 - val_loss: 1.3484 - val_accuracy: 0.7438\n",
      "Epoch 9/10\n",
      "122/122 [==============================] - 46s 375ms/step - loss: 0.2790 - accuracy: 0.8841 - val_loss: 0.3012 - val_accuracy: 0.8254\n",
      "Epoch 10/10\n",
      "122/122 [==============================] - 45s 369ms/step - loss: 0.2712 - accuracy: 0.8748 - val_loss: 3.5105 - val_accuracy: 0.7438\n",
      "Wall time: 7min 7s\n"
     ]
    }
   ],
   "source": [
    "%time history_cnn = cnn.fit(x = training_set, validation_data = test_set, epochs = 10)"
   ]
  },
  {
   "cell_type": "code",
   "execution_count": 7,
   "id": "00e7c25c",
   "metadata": {},
   "outputs": [
    {
     "name": "stdout",
     "output_type": "stream",
     "text": [
      "Pneumonia\n"
     ]
    }
   ],
   "source": [
    "test_image = image.load_img(\n",
    "    'data/chest_xray/val/PNEUMONIA/person128_virus_261.jpeg', target_size=(64, 64))\n",
    "test_image = image.img_to_array(test_image)\n",
    "test_image = np.expand_dims(test_image, axis=0)\n",
    "result = cnn.predict(test_image)\n",
    "# training_set.class_indices\n",
    "if result[0][0] == 1:\n",
    "    prediction = 'Pneumonia'\n",
    "else:\n",
    "    prediction = 'Normal'\n",
    "print(prediction)"
   ]
  },
  {
   "cell_type": "code",
   "execution_count": 8,
   "id": "be216b6b",
   "metadata": {
    "scrolled": true
   },
   "outputs": [],
   "source": [
    "data_dir = Path('data/chest_xray')\n",
    "\n",
    "train_dir = data_dir / 'train'\n",
    "\n",
    "val_dir = data_dir / 'test'\n",
    "\n",
    "normal_cases_dir = train_dir / 'NORMAL'\n",
    "pneumonia_cases_dir = train_dir / 'PNEUMONIA'"
   ]
  },
  {
   "cell_type": "code",
   "execution_count": 9,
   "id": "d9d38614",
   "metadata": {},
   "outputs": [
    {
     "data": {
      "text/plain": [
       "(1300,)"
      ]
     },
     "execution_count": 9,
     "metadata": {},
     "output_type": "execute_result"
    }
   ],
   "source": [
    "## Loading the validation data as numpy array\n",
    "normal_cases_dir = val_dir / 'NORMAL'\n",
    "pneumonia_cases_dir = val_dir / 'PNEUMONIA'\n",
    "\n",
    "normal_cases = normal_cases_dir.glob('*.jpeg')\n",
    "pneumonia_cases = pneumonia_cases_dir.glob('*.jpeg')\n",
    "\n",
    "valid_data = []\n",
    "valid_labels = []\n",
    "\n",
    "\n",
    "for img in normal_cases:\n",
    "    img = cv2.imread(str(img))\n",
    "    img = cv2.resize(img, (64, 64))\n",
    "    \n",
    "    img = img.astype(np.float32)/255.\n",
    "    label = 0\n",
    "    valid_data.append(img)\n",
    "    valid_labels.append(label)\n",
    "                          \n",
    "for img in pneumonia_cases:\n",
    "    img = cv2.imread(str(img))\n",
    "    img = cv2.resize(img, (64, 64))\n",
    "    \n",
    "    img = img.astype(np.float32)/255.\n",
    "    label = 1\n",
    "    valid_data.append(img)\n",
    "    valid_labels.append(label)\n",
    "    \n",
    "valid_data = np.array(valid_data)\n",
    "valid_labels = np.array(valid_labels)\n",
    "\n",
    "valid_labels.shape"
   ]
  },
  {
   "cell_type": "code",
   "execution_count": 10,
   "id": "0b7b5143",
   "metadata": {},
   "outputs": [
    {
     "data": {
      "text/plain": [
       "(1300,)"
      ]
     },
     "execution_count": 10,
     "metadata": {},
     "output_type": "execute_result"
    }
   ],
   "source": [
    "## Loading the training data as numpy array\n",
    "normal_cases_dir = val_dir / 'NORMAL'\n",
    "pneumonia_cases_dir = val_dir / 'PNEUMONIA'\n",
    "\n",
    "normal_cases = normal_cases_dir.glob('*.jpeg')\n",
    "pneumonia_cases = pneumonia_cases_dir.glob('*.jpeg')\n",
    "\n",
    "train_data = []\n",
    "train_labels = []\n",
    "\n",
    "\n",
    "for img in normal_cases:\n",
    "    img = cv2.imread(str(img))\n",
    "    img = cv2.resize(img, (64, 64))\n",
    "    \n",
    "    img = img.astype(np.float32)/255.\n",
    "    label = 0\n",
    "    train_data.append(img)\n",
    "    train_labels.append(label)\n",
    "                          \n",
    "for img in pneumonia_cases:\n",
    "    img = cv2.imread(str(img))\n",
    "    img = cv2.resize(img, (64, 64))\n",
    "    \n",
    "    img = img.astype(np.float32)/255.\n",
    "    label = 1\n",
    "    train_data.append(img)\n",
    "    train_labels.append(label)\n",
    "    \n",
    "train_data = np.array(train_data)\n",
    "train_labels = np.array(train_labels)\n",
    "\n",
    "train_labels.shape"
   ]
  },
  {
   "cell_type": "code",
   "execution_count": 11,
   "id": "4e37c0cc",
   "metadata": {},
   "outputs": [
    {
     "name": "stdout",
     "output_type": "stream",
     "text": [
      "Model: \"sequential_1\"\n",
      "_________________________________________________________________\n",
      "Layer (type)                 Output Shape              Param #   \n",
      "=================================================================\n",
      "flatten_1 (Flatten)          (None, 12288)             0         \n",
      "_________________________________________________________________\n",
      "dense_2 (Dense)              (None, 64)                786496    \n",
      "_________________________________________________________________\n",
      "dense_3 (Dense)              (None, 128)               8320      \n",
      "_________________________________________________________________\n",
      "dense_4 (Dense)              (None, 256)               33024     \n",
      "_________________________________________________________________\n",
      "dense_5 (Dense)              (None, 128)               32896     \n",
      "_________________________________________________________________\n",
      "dense_6 (Dense)              (None, 64)                8256      \n",
      "_________________________________________________________________\n",
      "dense_7 (Dense)              (None, 1)                 65        \n",
      "=================================================================\n",
      "Total params: 869,057\n",
      "Trainable params: 869,057\n",
      "Non-trainable params: 0\n",
      "_________________________________________________________________\n"
     ]
    }
   ],
   "source": [
    "## Building a dense model\n",
    "model = Sequential()\n",
    "model.add(Flatten(input_shape = (64, 64, 3)))\n",
    "model.add(Dense(units = 64, activation = tf.keras.layers.LeakyReLU()))\n",
    "model.add(Dense(units = 128, activation = tf.keras.layers.LeakyReLU()))\n",
    "model.add(Dense(units = 256, activation = tf.keras.layers.LeakyReLU()))\n",
    "model.add(Dense(units = 128, activation = tf.keras.layers.LeakyReLU()))\n",
    "model.add(Dense(units = 64, activation = tf.keras.layers.LeakyReLU()))\n",
    "model.add(Dense(units = 1, activation = 'sigmoid'))\n",
    "model.compile(optimizer = 'Adam', loss = 'binary_crossentropy' , metrics = ['accuracy'])\n",
    "model.summary()"
   ]
  },
  {
   "cell_type": "code",
   "execution_count": 12,
   "id": "9822c1e9",
   "metadata": {
    "scrolled": true
   },
   "outputs": [
    {
     "name": "stdout",
     "output_type": "stream",
     "text": [
      "Number of training and validation steps: 40 and 1300\n"
     ]
    }
   ],
   "source": [
    "batch_size = 32\n",
    "nb_epochs = 10\n",
    "\n",
    "nb_train_steps = valid_data.shape[0]//batch_size\n",
    "\n",
    "print(\"Number of training and validation steps: {} and {}\".format(nb_train_steps, len(valid_data)))"
   ]
  },
  {
   "cell_type": "code",
   "execution_count": 13,
   "id": "02392588",
   "metadata": {},
   "outputs": [
    {
     "name": "stdout",
     "output_type": "stream",
     "text": [
      "Epoch 1/10\n",
      "40/40 [==============================] - 1s 11ms/step - loss: 0.7988 - accuracy: 0.6462 - val_loss: 0.2633 - val_accuracy: 0.8923\n",
      "Epoch 2/10\n",
      "40/40 [==============================] - 0s 9ms/step - loss: 0.2736 - accuracy: 0.8835 - val_loss: 0.1437 - val_accuracy: 0.9492\n",
      "Epoch 3/10\n",
      "40/40 [==============================] - 0s 8ms/step - loss: 0.1797 - accuracy: 0.9269 - val_loss: 0.1524 - val_accuracy: 0.9438\n",
      "Epoch 4/10\n",
      "40/40 [==============================] - 0s 8ms/step - loss: 0.1595 - accuracy: 0.9384 - val_loss: 0.1407 - val_accuracy: 0.9431\n",
      "Epoch 5/10\n",
      "40/40 [==============================] - 0s 8ms/step - loss: 0.1426 - accuracy: 0.9441 - val_loss: 0.0743 - val_accuracy: 0.9723\n",
      "Epoch 6/10\n",
      "40/40 [==============================] - 0s 7ms/step - loss: 0.1069 - accuracy: 0.9510 - val_loss: 0.0634 - val_accuracy: 0.9792\n",
      "Epoch 7/10\n",
      "40/40 [==============================] - 0s 8ms/step - loss: 0.0893 - accuracy: 0.9612 - val_loss: 0.1020 - val_accuracy: 0.9585\n",
      "Epoch 8/10\n",
      "40/40 [==============================] - 0s 8ms/step - loss: 0.1030 - accuracy: 0.9530 - val_loss: 0.1042 - val_accuracy: 0.9608\n",
      "Epoch 9/10\n",
      "40/40 [==============================] - 0s 8ms/step - loss: 0.1288 - accuracy: 0.9527 - val_loss: 0.0710 - val_accuracy: 0.9746\n",
      "Epoch 10/10\n",
      "40/40 [==============================] - 0s 8ms/step - loss: 0.1567 - accuracy: 0.9375 - val_loss: 0.0699 - val_accuracy: 0.9769\n",
      "Wall time: 3.68 s\n"
     ]
    }
   ],
   "source": [
    "%time history_dense = model.fit(x = train_data, y = train_labels, epochs=nb_epochs, steps_per_epoch=nb_train_steps, validation_data=(valid_data, valid_labels))"
   ]
  },
  {
   "cell_type": "code",
   "execution_count": 14,
   "id": "66160d07",
   "metadata": {},
   "outputs": [
    {
     "data": {
      "text/plain": [
       "Text(0, 0.5, 'Loss')"
      ]
     },
     "execution_count": 14,
     "metadata": {},
     "output_type": "execute_result"
    },
    {
     "data": {
      "image/png": "[encoded data removed]",
      "text/plain": [
       "<Figure size 432x288 with 1 Axes>"
      ]
     },
     "metadata": {
      "needs_background": "light"
     },
     "output_type": "display_data"
    }
   ],
   "source": [
    "# # Plot the loss of training and validation for CNN\n",
    "training_loss = history_cnn.history['loss']\n",
    "epoch_count = range(1, len(training_loss) + 1)\n",
    "test_loss = history_cnn.history['val_loss']\n",
    "plt.plot(epoch_count, training_loss, 'r--')\n",
    "plt.plot(epoch_count, test_loss, 'b-')\n",
    "plt.legend(['Training Loss', 'Test Loss'])\n",
    "plt.xlabel('Epoch')\n",
    "plt.ylabel('Loss')"
   ]
  },
  {
   "cell_type": "code",
   "execution_count": 15,
   "id": "96c095c3",
   "metadata": {},
   "outputs": [
    {
     "data": {
      "text/plain": [
       "Text(0, 0.5, 'Loss')"
      ]
     },
     "execution_count": 15,
     "metadata": {},
     "output_type": "execute_result"
    },
    {
     "data": {
      "image/png": "[encoded data removed]",
      "text/plain": [
       "<Figure size 432x288 with 1 Axes>"
      ]
     },
     "metadata": {
      "needs_background": "light"
     },
     "output_type": "display_data"
    }
   ],
   "source": [
    "# # Plot the loss of training and validation for ANN\n",
    "training_loss = history_dense.history['loss']\n",
    "epoch_count = range(1, len(training_loss) + 1)\n",
    "test_loss = history_dense.history['val_loss']\n",
    "plt.plot(epoch_count, training_loss, 'r--')\n",
    "plt.plot(epoch_count, test_loss, 'b-')\n",
    "plt.legend(['Training Loss', 'Test Loss'])\n",
    "plt.xlabel('Epoch')\n",
    "plt.ylabel('Loss')"
   ]
  }
 ],
 "metadata": {
  "kernelspec": {
   "display_name": "Python 3",
   "language": "python",
   "name": "python3"
  },
  "language_info": {
   "codemirror_mode": {
    "name": "ipython",
    "version": 3
   },
   "file_extension": ".py",
   "mimetype": "text/x-python",
   "name": "python",
   "nbconvert_exporter": "python",
   "pygments_lexer": "ipython3",
   "version": "3.7.7"
  }
 },
 "nbformat": 4,
 "nbformat_minor": 5
}

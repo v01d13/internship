{
 "cells": [
  {
   "cell_type": "code",
   "execution_count": 1,
   "id": "c42719b9",
   "metadata": {},
   "outputs": [],
   "source": [
    "import numpy as np # linear algebra\n",
    "import pandas as pd # data processing, CSV file I/O (e.g. pd.read_csv)\n",
    "import matplotlib.pyplot as plt\n",
    "import seaborn as sns \n",
    "\n",
    "from tensorflow.python.keras.models import Sequential\n",
    "from tensorflow.python.keras.layers import Dense, Embedding, SimpleRNN, Dropout\n",
    "from tensorflow.python.keras.preprocessing.text import Tokenizer\n",
    "from tensorflow.python.keras.preprocessing.sequence import pad_sequences\n",
    "from sklearn.model_selection import train_test_split\n",
    "import re\n",
    "import nltk\n",
    "from nltk.corpus import stopwords"
   ]
  },
  {
   "cell_type": "code",
   "execution_count": 2,
   "id": "38158974",
   "metadata": {},
   "outputs": [
    {
     "data": {
      "text/html": [
       "<div>\n",
       "<style scoped>\n",
       "    .dataframe tbody tr th:only-of-type {\n",
       "        vertical-align: middle;\n",
       "    }\n",
       "\n",
       "    .dataframe tbody tr th {\n",
       "        vertical-align: top;\n",
       "    }\n",
       "\n",
       "    .dataframe thead th {\n",
       "        text-align: right;\n",
       "    }\n",
       "</style>\n",
       "<table border=\"1\" class=\"dataframe\">\n",
       "  <thead>\n",
       "    <tr style=\"text-align: right;\">\n",
       "      <th></th>\n",
       "      <th>review</th>\n",
       "      <th>sentiment</th>\n",
       "    </tr>\n",
       "  </thead>\n",
       "  <tbody>\n",
       "    <tr>\n",
       "      <th>0</th>\n",
       "      <td>One of the other reviewers has mentioned that ...</td>\n",
       "      <td>positive</td>\n",
       "    </tr>\n",
       "    <tr>\n",
       "      <th>1</th>\n",
       "      <td>A wonderful little production. &lt;br /&gt;&lt;br /&gt;The...</td>\n",
       "      <td>positive</td>\n",
       "    </tr>\n",
       "    <tr>\n",
       "      <th>2</th>\n",
       "      <td>I thought this was a wonderful way to spend ti...</td>\n",
       "      <td>positive</td>\n",
       "    </tr>\n",
       "    <tr>\n",
       "      <th>3</th>\n",
       "      <td>Basically there's a family where a little boy ...</td>\n",
       "      <td>negative</td>\n",
       "    </tr>\n",
       "    <tr>\n",
       "      <th>4</th>\n",
       "      <td>Petter Mattei's \"Love in the Time of Money\" is...</td>\n",
       "      <td>positive</td>\n",
       "    </tr>\n",
       "  </tbody>\n",
       "</table>\n",
       "</div>"
      ],
      "text/plain": [
       "                                              review sentiment\n",
       "0  One of the other reviewers has mentioned that ...  positive\n",
       "1  A wonderful little production. <br /><br />The...  positive\n",
       "2  I thought this was a wonderful way to spend ti...  positive\n",
       "3  Basically there's a family where a little boy ...  negative\n",
       "4  Petter Mattei's \"Love in the Time of Money\" is...  positive"
      ]
     },
     "execution_count": 2,
     "metadata": {},
     "output_type": "execute_result"
    }
   ],
   "source": [
    "df = pd.read_csv(\"IMDB Dataset.csv\")\n",
    "df.head()"
   ]
  },
  {
   "cell_type": "code",
   "execution_count": 3,
   "id": "c3bdf873",
   "metadata": {},
   "outputs": [
    {
     "name": "stderr",
     "output_type": "stream",
     "text": [
      "C:\\Users\\ashes\\.conda\\envs\\tf_gpu\\lib\\site-packages\\seaborn\\_decorators.py:36: FutureWarning: Pass the following variable as a keyword arg: x. From version 0.12, the only valid positional argument will be `data`, and passing other arguments without an explicit keyword will result in an error or misinterpretation.\n",
      "  warnings.warn(\n"
     ]
    },
    {
     "data": {
      "image/png": "[encoded data removed]",
      "text/plain": [
       "<Figure size 432x288 with 1 Axes>"
      ]
     },
     "metadata": {
      "needs_background": "light"
     },
     "output_type": "display_data"
    }
   ],
   "source": [
    "# Check the amount of data each class has\n",
    "sns.countplot(df[\"sentiment\"], palette = [\"green\",\"red\"])\n",
    "plt.show()"
   ]
  },
  {
   "cell_type": "code",
   "execution_count": 4,
   "id": "6820bff4",
   "metadata": {},
   "outputs": [],
   "source": [
    "# change positive sentiment to 1 and negative to 0\n",
    "df.sentiment = [ 1 if each == \"positive\" else 0 for each in df.sentiment]"
   ]
  },
  {
   "cell_type": "code",
   "execution_count": 5,
   "id": "2bfaa5ea",
   "metadata": {},
   "outputs": [
    {
     "data": {
      "text/html": [
       "<div>\n",
       "<style scoped>\n",
       "    .dataframe tbody tr th:only-of-type {\n",
       "        vertical-align: middle;\n",
       "    }\n",
       "\n",
       "    .dataframe tbody tr th {\n",
       "        vertical-align: top;\n",
       "    }\n",
       "\n",
       "    .dataframe thead th {\n",
       "        text-align: right;\n",
       "    }\n",
       "</style>\n",
       "<table border=\"1\" class=\"dataframe\">\n",
       "  <thead>\n",
       "    <tr style=\"text-align: right;\">\n",
       "      <th></th>\n",
       "      <th>review</th>\n",
       "      <th>sentiment</th>\n",
       "    </tr>\n",
       "  </thead>\n",
       "  <tbody>\n",
       "    <tr>\n",
       "      <th>0</th>\n",
       "      <td>one of the other reviewers has mentioned that ...</td>\n",
       "      <td>1</td>\n",
       "    </tr>\n",
       "    <tr>\n",
       "      <th>1</th>\n",
       "      <td>a wonderful little production   the filming te...</td>\n",
       "      <td>1</td>\n",
       "    </tr>\n",
       "    <tr>\n",
       "      <th>2</th>\n",
       "      <td>i thought this was a wonderful way to spend ti...</td>\n",
       "      <td>1</td>\n",
       "    </tr>\n",
       "    <tr>\n",
       "      <th>3</th>\n",
       "      <td>basically there s a family where a little boy ...</td>\n",
       "      <td>0</td>\n",
       "    </tr>\n",
       "    <tr>\n",
       "      <th>4</th>\n",
       "      <td>petter mattei s love in the time of money is a...</td>\n",
       "      <td>1</td>\n",
       "    </tr>\n",
       "  </tbody>\n",
       "</table>\n",
       "</div>"
      ],
      "text/plain": [
       "                                              review  sentiment\n",
       "0  one of the other reviewers has mentioned that ...          1\n",
       "1  a wonderful little production   the filming te...          1\n",
       "2  i thought this was a wonderful way to spend ti...          1\n",
       "3  basically there s a family where a little boy ...          0\n",
       "4  petter mattei s love in the time of money is a...          1"
      ]
     },
     "execution_count": 5,
     "metadata": {},
     "output_type": "execute_result"
    }
   ],
   "source": [
    "# data preprocessing\n",
    "df['review'] = df['review'].apply(lambda x: re.sub('<br />', ' ', x))\n",
    "df['review'] = df['review'].apply(lambda x: re.sub('[,\\.!?:()\"]', '', x))\n",
    "df['review'] = df['review'].apply(lambda x: re.sub('[^a-zA-Z\"]', ' ', x))\n",
    "\n",
    "df['review'] = df['review'].apply(lambda x: x.lower())\n",
    "\n",
    "df['review'] = df['review'].apply(lambda x: x.strip())\n",
    "df.head()"
   ]
  },
  {
   "cell_type": "code",
   "execution_count": 6,
   "id": "79a26c63",
   "metadata": {},
   "outputs": [],
   "source": [
    "# Tokenize\n",
    "def token(values):\n",
    "    words = nltk.tokenize.word_tokenize(values)\n",
    "    filtered_words = [word for word in words if word not in set(stopwords.words(\"english\"))]\n",
    "    not_stopword_doc = \" \".join(filtered_words)\n",
    "    return not_stopword_doc"
   ]
  },
  {
   "cell_type": "code",
   "execution_count": 7,
   "id": "7f9ee9c3",
   "metadata": {},
   "outputs": [
    {
     "name": "stdout",
     "output_type": "stream",
     "text": [
      "Wall time: 43min 7s\n"
     ]
    }
   ],
   "source": [
    "%time df['review'] = df['review'].apply(lambda x: token(x))"
   ]
  },
  {
   "cell_type": "code",
   "execution_count": 8,
   "id": "02df1ac2",
   "metadata": {},
   "outputs": [
    {
     "data": {
      "text/plain": [
       "array([1, 1, 1, ..., 0, 0, 0], dtype=int64)"
      ]
     },
     "execution_count": 8,
     "metadata": {},
     "output_type": "execute_result"
    }
   ],
   "source": [
    "sentiment = df['sentiment'].values\n",
    "sentiment"
   ]
  },
  {
   "cell_type": "code",
   "execution_count": 9,
   "id": "80f64556",
   "metadata": {},
   "outputs": [],
   "source": [
    "df = df['review']"
   ]
  },
  {
   "cell_type": "code",
   "execution_count": 10,
   "id": "97315945",
   "metadata": {},
   "outputs": [],
   "source": [
    "# Split the dataset into train and test\n",
    "X_train, X_test, y_train, y_test = train_test_split(df, sentiment, test_size = 0.2, random_state = 42)"
   ]
  },
  {
   "cell_type": "code",
   "execution_count": 11,
   "id": "d6c420bb",
   "metadata": {},
   "outputs": [],
   "source": [
    "# Creating a dictionary of 15000 most used words in english\n",
    "tokenizer = Tokenizer(num_words = 15000)\n",
    "tokenizer.fit_on_texts(df)"
   ]
  },
  {
   "cell_type": "code",
   "execution_count": 12,
   "id": "0bdca637",
   "metadata": {},
   "outputs": [],
   "source": [
    "# make the comments of different lengths into the same length for the neural network\n",
    "X_train_tokens = tokenizer.texts_to_sequences(X_train)\n",
    "X_test_tokens = tokenizer.texts_to_sequences(X_test)"
   ]
  },
  {
   "cell_type": "code",
   "execution_count": 13,
   "id": "a5447c11",
   "metadata": {},
   "outputs": [],
   "source": [
    "num_tokens = [len(tokens) for tokens in X_train_tokens + X_test_tokens]\n",
    "num_tokens = np.array(num_tokens)"
   ]
  },
  {
   "cell_type": "code",
   "execution_count": 14,
   "id": "562b843a",
   "metadata": {},
   "outputs": [
    {
     "data": {
      "text/plain": [
       "272"
      ]
     },
     "execution_count": 14,
     "metadata": {},
     "output_type": "execute_result"
    }
   ],
   "source": [
    "max_tokens = np.mean(num_tokens) + 2 * np.std(num_tokens)\n",
    "max_tokens = int(max_tokens)\n",
    "max_tokens"
   ]
  },
  {
   "cell_type": "code",
   "execution_count": 15,
   "id": "db83cf76",
   "metadata": {},
   "outputs": [
    {
     "data": {
      "text/plain": [
       "0.94496"
      ]
     },
     "execution_count": 15,
     "metadata": {},
     "output_type": "execute_result"
    }
   ],
   "source": [
    "np.sum(num_tokens < max_tokens) / len(num_tokens)"
   ]
  },
  {
   "cell_type": "code",
   "execution_count": 16,
   "id": "65dbd7f1",
   "metadata": {},
   "outputs": [
    {
     "data": {
      "text/plain": [
       "(40000, 272)"
      ]
     },
     "execution_count": 16,
     "metadata": {},
     "output_type": "execute_result"
    }
   ],
   "source": [
    "#data is adjusted according to the number of tokens specified\n",
    "X_train_pad = pad_sequences(X_train_tokens, maxlen = max_tokens)\n",
    "X_test_pad = pad_sequences(X_test_tokens, maxlen = max_tokens)\n",
    "X_train_pad.shape"
   ]
  },
  {
   "cell_type": "code",
   "execution_count": 17,
   "id": "22d860f3",
   "metadata": {},
   "outputs": [],
   "source": [
    "# Making a simple RNN model\n",
    "model = Sequential()\n",
    "\n",
    "embedding_size = 50\n",
    "\n",
    "model.add(Embedding(input_dim = 15000, output_dim = embedding_size, \n",
    "                    input_length = max_tokens, name = 'embedding_layer'))\n",
    "\n",
    "model.add(SimpleRNN(units = 16, return_sequences = True))\n",
    "model.add(Dropout(0.3))\n",
    "\n",
    "model.add(SimpleRNN(units = 8, return_sequences = True))\n",
    "model.add(Dropout(0.3))\n",
    "\n",
    "model.add(SimpleRNN(units = 4))\n",
    "model.add(Dropout(0.3))\n",
    "\n",
    "model.add(Dense(1, activation = 'sigmoid'))\n",
    "\n",
    "model.compile(optimizer = 'adam',\n",
    "              loss = 'binary_crossentropy',\n",
    "              metrics = ['accuracy'])"
   ]
  },
  {
   "cell_type": "code",
   "execution_count": 18,
   "id": "5a77b596",
   "metadata": {},
   "outputs": [
    {
     "name": "stdout",
     "output_type": "stream",
     "text": [
      "Model: \"sequential\"\n",
      "_________________________________________________________________\n",
      "Layer (type)                 Output Shape              Param #   \n",
      "=================================================================\n",
      "embedding_layer (Embedding)  (None, 272, 50)           750000    \n",
      "_________________________________________________________________\n",
      "simple_rnn (SimpleRNN)       (None, 272, 16)           1072      \n",
      "_________________________________________________________________\n",
      "dropout (Dropout)            (None, 272, 16)           0         \n",
      "_________________________________________________________________\n",
      "simple_rnn_1 (SimpleRNN)     (None, 272, 8)            200       \n",
      "_________________________________________________________________\n",
      "dropout_1 (Dropout)          (None, 272, 8)            0         \n",
      "_________________________________________________________________\n",
      "simple_rnn_2 (SimpleRNN)     (None, 4)                 52        \n",
      "_________________________________________________________________\n",
      "dropout_2 (Dropout)          (None, 4)                 0         \n",
      "_________________________________________________________________\n",
      "dense (Dense)                (None, 1)                 5         \n",
      "=================================================================\n",
      "Total params: 751,329\n",
      "Trainable params: 751,329\n",
      "Non-trainable params: 0\n",
      "_________________________________________________________________\n"
     ]
    }
   ],
   "source": [
    "model.summary()"
   ]
  },
  {
   "cell_type": "code",
   "execution_count": 19,
   "id": "162416a7",
   "metadata": {},
   "outputs": [
    {
     "name": "stdout",
     "output_type": "stream",
     "text": [
      "Epoch 1/10\n",
      "40/40 [==============================] - 29s 634ms/step - loss: 0.6863 - accuracy: 0.5623 - val_loss: 0.5959 - val_accuracy: 0.7413\n",
      "Epoch 2/10\n",
      "40/40 [==============================] - 26s 644ms/step - loss: 0.5547 - accuracy: 0.7382 - val_loss: 0.4854 - val_accuracy: 0.8181\n",
      "Epoch 3/10\n",
      "40/40 [==============================] - 25s 617ms/step - loss: 0.4680 - accuracy: 0.8305 - val_loss: 0.4190 - val_accuracy: 0.8415\n",
      "Epoch 4/10\n",
      "40/40 [==============================] - 24s 600ms/step - loss: 0.4052 - accuracy: 0.8698 - val_loss: 0.4044 - val_accuracy: 0.8388\n",
      "Epoch 5/10\n",
      "40/40 [==============================] - 25s 628ms/step - loss: 0.3766 - accuracy: 0.8770 - val_loss: 0.4026 - val_accuracy: 0.8385\n",
      "Epoch 6/10\n",
      "40/40 [==============================] - 25s 622ms/step - loss: 0.3372 - accuracy: 0.8950 - val_loss: 0.3791 - val_accuracy: 0.8508\n",
      "Epoch 7/10\n",
      "40/40 [==============================] - 25s 633ms/step - loss: 0.2915 - accuracy: 0.9182 - val_loss: 0.3777 - val_accuracy: 0.8540\n",
      "Epoch 8/10\n",
      "40/40 [==============================] - 26s 642ms/step - loss: 0.2534 - accuracy: 0.9349 - val_loss: 0.3794 - val_accuracy: 0.8572\n",
      "Epoch 9/10\n",
      "40/40 [==============================] - 25s 619ms/step - loss: 0.2227 - accuracy: 0.9477 - val_loss: 0.3836 - val_accuracy: 0.8574\n",
      "Epoch 10/10\n",
      "40/40 [==============================] - 25s 618ms/step - loss: 0.2080 - accuracy: 0.9509 - val_loss: 0.4113 - val_accuracy: 0.8456\n",
      "Wall time: 4min 13s\n"
     ]
    }
   ],
   "source": [
    "%time history = model.fit(X_train_pad, y_train, validation_data = (X_test_pad, y_test), epochs = 10, batch_size=1000)"
   ]
  },
  {
   "cell_type": "code",
   "execution_count": 20,
   "id": "4626fffb",
   "metadata": {},
   "outputs": [
    {
     "data": {
      "image/png": "[encoded data removed]",
      "text/plain": [
       "<Figure size 432x288 with 1 Axes>"
      ]
     },
     "metadata": {
      "needs_background": "light"
     },
     "output_type": "display_data"
    }
   ],
   "source": [
    "# Plotting the loss for the train and test\n",
    "plt.figure()\n",
    "plt.plot(history.history[\"loss\"], label = \"Train\")\n",
    "plt.plot(history.history[\"val_loss\"], label = \"Test\")\n",
    "plt.title(\"Accuracy\")\n",
    "plt.ylabel(\"Acc\")\n",
    "plt.xlabel(\"epochs\")\n",
    "plt.legend()\n",
    "plt.show()"
   ]
  }
 ],
 "metadata": {
  "kernelspec": {
   "display_name": "Python 3 (ipykernel)",
   "language": "python",
   "name": "python3"
  },
  "language_info": {
   "codemirror_mode": {
    "name": "ipython",
    "version": 3
   },
   "file_extension": ".py",
   "mimetype": "text/x-python",
   "name": "python",
   "nbconvert_exporter": "python",
   "pygments_lexer": "ipython3",
   "version": "3.9.7"
  }
 },
 "nbformat": 4,
 "nbformat_minor": 5
}

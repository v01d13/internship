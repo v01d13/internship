{
 "cells": [
  {
   "cell_type": "code",
   "execution_count": 1,
   "id": "42f9fa84",
   "metadata": {},
   "outputs": [],
   "source": [
    "import numpy as np\n",
    "import pandas as pd\n",
    "import nltk\n",
    "import re\n",
    "from bs4 import BeautifulSoup\n",
    "from nltk.stem import WordNetLemmatizer\n",
    "from gensim.models import Word2Vec"
   ]
  },
  {
   "cell_type": "code",
   "execution_count": 2,
   "id": "e05d27bd",
   "metadata": {
    "scrolled": true
   },
   "outputs": [
    {
     "name": "stdout",
     "output_type": "stream",
     "text": [
      "(50000, 2)\n"
     ]
    },
    {
     "data": {
      "text/html": [
       "<div>\n",
       "<style scoped>\n",
       "    .dataframe tbody tr th:only-of-type {\n",
       "        vertical-align: middle;\n",
       "    }\n",
       "\n",
       "    .dataframe tbody tr th {\n",
       "        vertical-align: top;\n",
       "    }\n",
       "\n",
       "    .dataframe thead th {\n",
       "        text-align: right;\n",
       "    }\n",
       "</style>\n",
       "<table border=\"1\" class=\"dataframe\">\n",
       "  <thead>\n",
       "    <tr style=\"text-align: right;\">\n",
       "      <th></th>\n",
       "      <th>review</th>\n",
       "      <th>sentiment</th>\n",
       "    </tr>\n",
       "  </thead>\n",
       "  <tbody>\n",
       "    <tr>\n",
       "      <th>0</th>\n",
       "      <td>One of the other reviewers has mentioned that ...</td>\n",
       "      <td>positive</td>\n",
       "    </tr>\n",
       "    <tr>\n",
       "      <th>1</th>\n",
       "      <td>A wonderful little production. &lt;br /&gt;&lt;br /&gt;The...</td>\n",
       "      <td>positive</td>\n",
       "    </tr>\n",
       "    <tr>\n",
       "      <th>2</th>\n",
       "      <td>I thought this was a wonderful way to spend ti...</td>\n",
       "      <td>positive</td>\n",
       "    </tr>\n",
       "    <tr>\n",
       "      <th>3</th>\n",
       "      <td>Basically there's a family where a little boy ...</td>\n",
       "      <td>negative</td>\n",
       "    </tr>\n",
       "    <tr>\n",
       "      <th>4</th>\n",
       "      <td>Petter Mattei's \"Love in the Time of Money\" is...</td>\n",
       "      <td>positive</td>\n",
       "    </tr>\n",
       "  </tbody>\n",
       "</table>\n",
       "</div>"
      ],
      "text/plain": [
       "                                              review sentiment\n",
       "0  One of the other reviewers has mentioned that ...  positive\n",
       "1  A wonderful little production. <br /><br />The...  positive\n",
       "2  I thought this was a wonderful way to spend ti...  positive\n",
       "3  Basically there's a family where a little boy ...  negative\n",
       "4  Petter Mattei's \"Love in the Time of Money\" is...  positive"
      ]
     },
     "execution_count": 2,
     "metadata": {},
     "output_type": "execute_result"
    }
   ],
   "source": [
    "df = pd.read_csv('IMDB Dataset.csv')\n",
    "print(df.shape)\n",
    "df.head()"
   ]
  },
  {
   "cell_type": "code",
   "execution_count": 3,
   "id": "e1fb930a",
   "metadata": {},
   "outputs": [],
   "source": [
    "def strip_html(text):\n",
    "    soup = BeautifulSoup(text, \"html.parser\")\n",
    "    return soup.get_text()\n",
    "# Removing the square brackets\n",
    "def remove_square_brackets(text):\n",
    "    return re.sub('\\[[^]]*\\]', '', text)\n",
    "\n",
    "# Removing the noisy text\n",
    "def denoise_text(text):\n",
    "    text = strip_html(text)\n",
    "    text = remove_square_brackets(text)\n",
    "    return text\n",
    "df['review'] = df['review'].apply(denoise_text)\n",
    "\n",
    "# Remove the special characters from the dataset\n",
    "def remove_special_chars(text, remove_digits = True):\n",
    "    pattern = r'[^a-zA-z0-9\\s]'\n",
    "    text = re.sub(pattern,'',text)\n",
    "    return text\n",
    "df['review'] = df['review'].apply(remove_special_chars)"
   ]
  },
  {
   "cell_type": "code",
   "execution_count": 4,
   "id": "1a460499",
   "metadata": {},
   "outputs": [],
   "source": [
    "def lemmatization(text):\n",
    "    lemmatizer = WordNetLemmatizer()\n",
    "    out_data = \"\"\n",
    "    for words in text:\n",
    "        out_data += lemmatizer.lemmatize(words)\n",
    "    return out_data\n",
    "df['review'] = df['review'].apply(lemmatization)"
   ]
  },
  {
   "cell_type": "code",
   "execution_count": 5,
   "id": "4e827e81",
   "metadata": {
    "scrolled": true
   },
   "outputs": [
    {
     "data": {
      "text/plain": [
       "0        One of the other reviewers has mentioned that ...\n",
       "1        A wonderful little production The filming tech...\n",
       "2        I thought this was a wonderful way to spend ti...\n",
       "3        Basically theres a family where a little boy J...\n",
       "4        Petter Matteis Love in the Time of Money is a ...\n",
       "                               ...                        \n",
       "49995    I thought this movie did a down right good job...\n",
       "49996    Bad plot bad dialogue bad acting idiotic direc...\n",
       "49997    I am a Catholic taught in parochial elementary...\n",
       "49998    Im going to have to disagree with the previous...\n",
       "49999    No one expects the Star Trek movies to be high...\n",
       "Name: review, Length: 50000, dtype: object"
      ]
     },
     "execution_count": 5,
     "metadata": {},
     "output_type": "execute_result"
    }
   ],
   "source": [
    "df['review']"
   ]
  },
  {
   "cell_type": "code",
   "execution_count": 6,
   "id": "d30bf062",
   "metadata": {
    "scrolled": true
   },
   "outputs": [
    {
     "data": {
      "text/plain": [
       "0        [One, of, the, other, reviewers, has, mentione...\n",
       "1        [A, wonderful, little, production, The, filmin...\n",
       "2        [I, thought, this, was, a, wonderful, way, to,...\n",
       "3        [Basically, theres, a, family, where, a, littl...\n",
       "4        [Petter, Matteis, Love, in, the, Time, of, Mon...\n",
       "                               ...                        \n",
       "49995    [I, thought, this, movie, did, a, down, right,...\n",
       "49996    [Bad, plot, bad, dialogue, bad, acting, idioti...\n",
       "49997    [I, am, a, Catholic, taught, in, parochial, el...\n",
       "49998    [Im, going, to, have, to, disagree, with, the,...\n",
       "49999    [No, one, expects, the, Star, Trek, movies, to...\n",
       "Name: review, Length: 50000, dtype: object"
      ]
     },
     "execution_count": 6,
     "metadata": {},
     "output_type": "execute_result"
    }
   ],
   "source": [
    "df['review'] = list(df['review'].str.split())\n",
    "df['review']"
   ]
  },
  {
   "cell_type": "code",
   "execution_count": 7,
   "id": "79295bb4",
   "metadata": {},
   "outputs": [],
   "source": [
    "model = Word2Vec(df['review'], min_count = 3, epochs = 30, seed = 42)\n",
    "word_list = list(model.wv.index_to_key)"
   ]
  },
  {
   "cell_type": "code",
   "execution_count": 8,
   "id": "c3eee1f7",
   "metadata": {
    "scrolled": true
   },
   "outputs": [
    {
     "name": "stdout",
     "output_type": "stream",
     "text": [
      "['the', 'a', 'and', 'of', 'to', 'is', 'in', 'I', 'that', 'it', 'this', 'was', 'as', 'with', 'for', 'movie', 'The', 'film', 'but', 'on', 'are', 'not', 'have', 'his', 'you', 'be', 'one', 'at', 'by', 'he', 'an', 'all', 'who', 'from', 'like', 'its', 'they', 'so', 'or', 'about', 'her', 'has', 'just', 'out', 'some', 'good', 'more', 'very', 'This', 'what']\n"
     ]
    }
   ],
   "source": [
    "print(word_list[:50])"
   ]
  },
  {
   "cell_type": "code",
   "execution_count": 9,
   "id": "fa6f2746",
   "metadata": {
    "scrolled": true
   },
   "outputs": [
    {
     "name": "stdout",
     "output_type": "stream",
     "text": [
      "[('kingdom', 0.6062176823616028), ('devil', 0.6034606099128723), ('Ahmad', 0.5904736518859863), ('Jaffar', 0.5859519243240356), ('vizier', 0.579598605632782)]\n"
     ]
    }
   ],
   "source": [
    "print(model.wv.most_similar('king', topn = 5))"
   ]
  },
  {
   "cell_type": "code",
   "execution_count": 10,
   "id": "3a78b914",
   "metadata": {},
   "outputs": [
    {
     "name": "stdout",
     "output_type": "stream",
     "text": [
      "[('goddess', 0.6358354091644287), ('maid', 0.6209036707878113), ('blonde', 0.6065131425857544), ('Arnoul', 0.5869413614273071), ('showgirl', 0.5725454092025757)]\n"
     ]
    }
   ],
   "source": [
    "print(model.wv.most_similar('queen', topn = 5))"
   ]
  }
 ],
 "metadata": {
  "kernelspec": {
   "display_name": "Python 3 (ipykernel)",
   "language": "python",
   "name": "python3"
  },
  "language_info": {
   "codemirror_mode": {
    "name": "ipython",
    "version": 3
   },
   "file_extension": ".py",
   "mimetype": "text/x-python",
   "name": "python",
   "nbconvert_exporter": "python",
   "pygments_lexer": "ipython3",
   "version": "3.9.7"
  }
 },
 "nbformat": 4,
 "nbformat_minor": 5
}

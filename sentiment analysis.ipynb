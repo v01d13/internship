{
 "cells": [
  {
   "cell_type": "code",
   "execution_count": 1,
   "id": "a3cdd16c",
   "metadata": {},
   "outputs": [],
   "source": [
    "import numpy as np\n",
    "import pandas as pd\n",
    "from sklearn.feature_extraction.text import CountVectorizer\n",
    "from tensorflow.keras.layers import Dense, InputLayer, Dropout\n",
    "from tensorflow.keras.models import Sequential\n",
    "import nltk\n",
    "import re\n",
    "import tensorflow as tf\n",
    "from bs4 import BeautifulSoup\n",
    "from nltk.tokenize.toktok import ToktokTokenizer\n",
    "from sklearn.linear_model import LogisticRegression"
   ]
  },
  {
   "cell_type": "code",
   "execution_count": 2,
   "id": "80133bb0",
   "metadata": {
    "scrolled": true
   },
   "outputs": [
    {
     "name": "stdout",
     "output_type": "stream",
     "text": [
      "(50000, 2)\n"
     ]
    },
    {
     "data": {
      "text/html": [
       "<div>\n",
       "<style scoped>\n",
       "    .dataframe tbody tr th:only-of-type {\n",
       "        vertical-align: middle;\n",
       "    }\n",
       "\n",
       "    .dataframe tbody tr th {\n",
       "        vertical-align: top;\n",
       "    }\n",
       "\n",
       "    .dataframe thead th {\n",
       "        text-align: right;\n",
       "    }\n",
       "</style>\n",
       "<table border=\"1\" class=\"dataframe\">\n",
       "  <thead>\n",
       "    <tr style=\"text-align: right;\">\n",
       "      <th></th>\n",
       "      <th>review</th>\n",
       "      <th>sentiment</th>\n",
       "    </tr>\n",
       "  </thead>\n",
       "  <tbody>\n",
       "    <tr>\n",
       "      <th>0</th>\n",
       "      <td>One of the other reviewers has mentioned that ...</td>\n",
       "      <td>positive</td>\n",
       "    </tr>\n",
       "    <tr>\n",
       "      <th>1</th>\n",
       "      <td>A wonderful little production. &lt;br /&gt;&lt;br /&gt;The...</td>\n",
       "      <td>positive</td>\n",
       "    </tr>\n",
       "    <tr>\n",
       "      <th>2</th>\n",
       "      <td>I thought this was a wonderful way to spend ti...</td>\n",
       "      <td>positive</td>\n",
       "    </tr>\n",
       "    <tr>\n",
       "      <th>3</th>\n",
       "      <td>Basically there's a family where a little boy ...</td>\n",
       "      <td>negative</td>\n",
       "    </tr>\n",
       "    <tr>\n",
       "      <th>4</th>\n",
       "      <td>Petter Mattei's \"Love in the Time of Money\" is...</td>\n",
       "      <td>positive</td>\n",
       "    </tr>\n",
       "  </tbody>\n",
       "</table>\n",
       "</div>"
      ],
      "text/plain": [
       "                                              review sentiment\n",
       "0  One of the other reviewers has mentioned that ...  positive\n",
       "1  A wonderful little production. <br /><br />The...  positive\n",
       "2  I thought this was a wonderful way to spend ti...  positive\n",
       "3  Basically there's a family where a little boy ...  negative\n",
       "4  Petter Mattei's \"Love in the Time of Money\" is...  positive"
      ]
     },
     "execution_count": 2,
     "metadata": {},
     "output_type": "execute_result"
    }
   ],
   "source": [
    "df = pd.read_csv('IMDB Dataset.csv')\n",
    "print(df.shape)\n",
    "df.head()"
   ]
  },
  {
   "cell_type": "code",
   "execution_count": 3,
   "id": "5d96eeaa",
   "metadata": {
    "scrolled": true
   },
   "outputs": [
    {
     "data": {
      "text/html": [
       "<div>\n",
       "<style scoped>\n",
       "    .dataframe tbody tr th:only-of-type {\n",
       "        vertical-align: middle;\n",
       "    }\n",
       "\n",
       "    .dataframe tbody tr th {\n",
       "        vertical-align: top;\n",
       "    }\n",
       "\n",
       "    .dataframe thead th {\n",
       "        text-align: right;\n",
       "    }\n",
       "</style>\n",
       "<table border=\"1\" class=\"dataframe\">\n",
       "  <thead>\n",
       "    <tr style=\"text-align: right;\">\n",
       "      <th></th>\n",
       "      <th>review</th>\n",
       "      <th>sentiment</th>\n",
       "    </tr>\n",
       "  </thead>\n",
       "  <tbody>\n",
       "    <tr>\n",
       "      <th>count</th>\n",
       "      <td>50000</td>\n",
       "      <td>50000</td>\n",
       "    </tr>\n",
       "    <tr>\n",
       "      <th>unique</th>\n",
       "      <td>49582</td>\n",
       "      <td>2</td>\n",
       "    </tr>\n",
       "    <tr>\n",
       "      <th>top</th>\n",
       "      <td>Loved today's show!!! It was a variety and not...</td>\n",
       "      <td>positive</td>\n",
       "    </tr>\n",
       "    <tr>\n",
       "      <th>freq</th>\n",
       "      <td>5</td>\n",
       "      <td>25000</td>\n",
       "    </tr>\n",
       "  </tbody>\n",
       "</table>\n",
       "</div>"
      ],
      "text/plain": [
       "                                                   review sentiment\n",
       "count                                               50000     50000\n",
       "unique                                              49582         2\n",
       "top     Loved today's show!!! It was a variety and not...  positive\n",
       "freq                                                    5     25000"
      ]
     },
     "execution_count": 3,
     "metadata": {},
     "output_type": "execute_result"
    }
   ],
   "source": [
    "df.describe()"
   ]
  },
  {
   "cell_type": "code",
   "execution_count": 4,
   "id": "7e5818d7",
   "metadata": {},
   "outputs": [],
   "source": [
    "# Remove the html strips from the dataset\n",
    "def strip_html(text):\n",
    "    soup = BeautifulSoup(text, \"html.parser\")\n",
    "    return soup.get_text()\n",
    "# Removing the square brackets\n",
    "def remove_square_brackets(text):\n",
    "    return re.sub('\\[[^]]*\\]', '', text)\n",
    "\n",
    "# Removing the noisy text\n",
    "def denoise_text(text):\n",
    "    text = strip_html(text)\n",
    "    text = remove_square_brackets(text)\n",
    "    return text\n",
    "df['review'] = df['review'].apply(denoise_text)\n",
    "\n",
    "# Remove the special characters from the dataset\n",
    "def remove_special_chars(text, remove_digits = True):\n",
    "    pattern = r'[^a-zA-z0-9\\s]'\n",
    "    text = re.sub(pattern,'',text)\n",
    "    return text\n",
    "df['review'] = df['review'].apply(remove_special_chars)"
   ]
  },
  {
   "cell_type": "code",
   "execution_count": 5,
   "id": "7fd2fce4",
   "metadata": {
    "scrolled": true
   },
   "outputs": [
    {
     "data": {
      "text/html": [
       "<div>\n",
       "<style scoped>\n",
       "    .dataframe tbody tr th:only-of-type {\n",
       "        vertical-align: middle;\n",
       "    }\n",
       "\n",
       "    .dataframe tbody tr th {\n",
       "        vertical-align: top;\n",
       "    }\n",
       "\n",
       "    .dataframe thead th {\n",
       "        text-align: right;\n",
       "    }\n",
       "</style>\n",
       "<table border=\"1\" class=\"dataframe\">\n",
       "  <thead>\n",
       "    <tr style=\"text-align: right;\">\n",
       "      <th></th>\n",
       "      <th>review</th>\n",
       "      <th>sentiment</th>\n",
       "    </tr>\n",
       "  </thead>\n",
       "  <tbody>\n",
       "    <tr>\n",
       "      <th>0</th>\n",
       "      <td>One reviewers mentioned watching 1 Oz episode ...</td>\n",
       "      <td>positive</td>\n",
       "    </tr>\n",
       "    <tr>\n",
       "      <th>1</th>\n",
       "      <td>wonderful little production filming technique ...</td>\n",
       "      <td>positive</td>\n",
       "    </tr>\n",
       "    <tr>\n",
       "      <th>2</th>\n",
       "      <td>thought wonderful way spend time hot summer we...</td>\n",
       "      <td>positive</td>\n",
       "    </tr>\n",
       "    <tr>\n",
       "      <th>3</th>\n",
       "      <td>Basically theres family little boy Jake thinks...</td>\n",
       "      <td>negative</td>\n",
       "    </tr>\n",
       "    <tr>\n",
       "      <th>4</th>\n",
       "      <td>Petter Matteis Love Time Money visually stunni...</td>\n",
       "      <td>positive</td>\n",
       "    </tr>\n",
       "  </tbody>\n",
       "</table>\n",
       "</div>"
      ],
      "text/plain": [
       "                                              review sentiment\n",
       "0  One reviewers mentioned watching 1 Oz episode ...  positive\n",
       "1  wonderful little production filming technique ...  positive\n",
       "2  thought wonderful way spend time hot summer we...  positive\n",
       "3  Basically theres family little boy Jake thinks...  negative\n",
       "4  Petter Matteis Love Time Money visually stunni...  positive"
      ]
     },
     "execution_count": 5,
     "metadata": {},
     "output_type": "execute_result"
    }
   ],
   "source": [
    "# Remove the stop words from the review\n",
    "tokenizer = ToktokTokenizer()\n",
    "stop_words = nltk.corpus.stopwords.words('english')\n",
    "\n",
    "def remove_stopwords(text, is_lower_case = False):\n",
    "    tokens = tokenizer.tokenize(text)\n",
    "    tokens = [token.strip() for token in tokens]\n",
    "    if is_lower_case:\n",
    "        filtered_tokens = [token for token in tokens if token not in stop_words]\n",
    "    else:\n",
    "        filtered_tokens = [token for token in tokens if token.lower() not in stop_words]\n",
    "    filtered_text = ' '.join(filtered_tokens)    \n",
    "    return filtered_text\n",
    "\n",
    "df['review'] = df['review'].apply(remove_stopwords)\n",
    "df.head()"
   ]
  },
  {
   "cell_type": "code",
   "execution_count": 6,
   "id": "34f89582",
   "metadata": {},
   "outputs": [],
   "source": [
    "df['sentiment'] = df['sentiment'].map({'negative':0, 'positive':1})"
   ]
  },
  {
   "cell_type": "code",
   "execution_count": 7,
   "id": "58257cf2",
   "metadata": {},
   "outputs": [
    {
     "name": "stdout",
     "output_type": "stream",
     "text": [
      "(40000,) (10000,)\n",
      "(40000,) (10000,)\n"
     ]
    }
   ],
   "source": [
    "test_reviews = df.review[:10000]\n",
    "test_sentiments = df.sentiment[:10000].values\n",
    "\n",
    "train_reviews = df.review[10000:]\n",
    "train_sentiments = df.sentiment[10000:].values\n",
    "print(train_reviews.shape, test_reviews.shape)\n",
    "print(train_sentiments.shape, test_sentiments.shape)"
   ]
  },
  {
   "cell_type": "code",
   "execution_count": 8,
   "id": "fc6cfb8c",
   "metadata": {},
   "outputs": [
    {
     "name": "stdout",
     "output_type": "stream",
     "text": [
      "Train: (40000, 10000)\n",
      "Test: (10000, 10000)\n",
      "int64\n",
      "int64\n"
     ]
    }
   ],
   "source": [
    "#Count vectorizer for bag of words\n",
    "cv = CountVectorizer(max_features = 10000)\n",
    "\n",
    "train_reviews = cv.fit_transform(train_reviews)\n",
    "test_reviews = cv.transform(test_reviews)\n",
    "\n",
    "print('Train:', train_reviews.shape)\n",
    "print('Test:', test_reviews.shape)\n",
    "train_reviews = train_reviews.toarray()\n",
    "test_reviews = test_reviews.toarray()\n",
    "print(train_reviews.dtype)\n",
    "print(train_sentiments.dtype)"
   ]
  },
  {
   "cell_type": "code",
   "execution_count": 9,
   "id": "20b02b75",
   "metadata": {},
   "outputs": [
    {
     "name": "stdout",
     "output_type": "stream",
     "text": [
      "10000\n"
     ]
    }
   ],
   "source": [
    "n_words = train_reviews.shape[1]\n",
    "print(n_words)"
   ]
  },
  {
   "cell_type": "code",
   "execution_count": 10,
   "id": "7b4a618c",
   "metadata": {},
   "outputs": [],
   "source": [
    "model = Sequential()\n",
    "model.add(InputLayer(input_shape = (n_words,)))\n",
    "model.add(Dense(16, activation = 'relu'))\n",
    "model.add(Dropout(0.35))\n",
    "model.add(Dense(16, activation = 'relu'))\n",
    "model.add(Dense(1, activation = 'sigmoid'))"
   ]
  },
  {
   "cell_type": "code",
   "execution_count": 11,
   "id": "7502de19",
   "metadata": {},
   "outputs": [],
   "source": [
    "model.compile(optimizer = 'sgd',\n",
    "              loss = 'binary_crossentropy',\n",
    "              metrics = ['accuracy'])"
   ]
  },
  {
   "cell_type": "code",
   "execution_count": 12,
   "id": "7dc90ab9",
   "metadata": {},
   "outputs": [
    {
     "name": "stdout",
     "output_type": "stream",
     "text": [
      "Epoch 1/20\n",
      "400/400 [==============================] - 5s 10ms/step - loss: 0.6599 - accuracy: 0.6253 - val_loss: 0.5900 - val_accuracy: 0.7658\n",
      "Epoch 2/20\n",
      "400/400 [==============================] - 4s 9ms/step - loss: 0.5399 - accuracy: 0.7639 - val_loss: 0.4585 - val_accuracy: 0.8238\n",
      "Epoch 3/20\n",
      "400/400 [==============================] - 4s 9ms/step - loss: 0.4493 - accuracy: 0.8143 - val_loss: 0.3932 - val_accuracy: 0.8470\n",
      "Epoch 4/20\n",
      "400/400 [==============================] - 4s 9ms/step - loss: 0.3941 - accuracy: 0.8415 - val_loss: 0.3523 - val_accuracy: 0.8604\n",
      "Epoch 5/20\n",
      "400/400 [==============================] - 4s 9ms/step - loss: 0.3580 - accuracy: 0.8563 - val_loss: 0.3257 - val_accuracy: 0.8720\n",
      "Epoch 6/20\n",
      "400/400 [==============================] - 4s 9ms/step - loss: 0.3336 - accuracy: 0.8684 - val_loss: 0.3119 - val_accuracy: 0.8741\n",
      "Epoch 7/20\n",
      "400/400 [==============================] - 4s 9ms/step - loss: 0.3087 - accuracy: 0.8766 - val_loss: 0.2959 - val_accuracy: 0.8795\n",
      "Epoch 8/20\n",
      "400/400 [==============================] - 4s 9ms/step - loss: 0.2902 - accuracy: 0.8857 - val_loss: 0.2868 - val_accuracy: 0.8845\n",
      "Epoch 9/20\n",
      "400/400 [==============================] - 4s 10ms/step - loss: 0.2765 - accuracy: 0.8915 - val_loss: 0.2806 - val_accuracy: 0.8849\n",
      "Epoch 10/20\n",
      "400/400 [==============================] - 4s 10ms/step - loss: 0.2652 - accuracy: 0.8961 - val_loss: 0.2763 - val_accuracy: 0.8850\n",
      "Epoch 11/20\n",
      "400/400 [==============================] - 4s 9ms/step - loss: 0.2527 - accuracy: 0.9008 - val_loss: 0.2738 - val_accuracy: 0.8865\n",
      "Epoch 12/20\n",
      "400/400 [==============================] - 4s 9ms/step - loss: 0.2413 - accuracy: 0.9063 - val_loss: 0.2709 - val_accuracy: 0.8878\n",
      "Epoch 13/20\n",
      "400/400 [==============================] - 4s 11ms/step - loss: 0.2356 - accuracy: 0.9091 - val_loss: 0.2709 - val_accuracy: 0.8873\n",
      "Epoch 14/20\n",
      "400/400 [==============================] - 4s 9ms/step - loss: 0.2271 - accuracy: 0.9125 - val_loss: 0.2685 - val_accuracy: 0.8881\n",
      "Epoch 15/20\n",
      "400/400 [==============================] - 4s 9ms/step - loss: 0.2180 - accuracy: 0.9168 - val_loss: 0.2706 - val_accuracy: 0.8874\n",
      "Epoch 16/20\n",
      "400/400 [==============================] - 4s 9ms/step - loss: 0.2094 - accuracy: 0.9198 - val_loss: 0.2692 - val_accuracy: 0.8884\n",
      "Epoch 17/20\n",
      "400/400 [==============================] - 4s 9ms/step - loss: 0.2041 - accuracy: 0.9229 - val_loss: 0.2705 - val_accuracy: 0.8887\n",
      "Epoch 18/20\n",
      "400/400 [==============================] - 4s 9ms/step - loss: 0.1976 - accuracy: 0.9263 - val_loss: 0.2715 - val_accuracy: 0.8893\n",
      "Epoch 19/20\n",
      "400/400 [==============================] - 4s 9ms/step - loss: 0.1896 - accuracy: 0.9291 - val_loss: 0.2711 - val_accuracy: 0.8884\n",
      "Epoch 20/20\n",
      "400/400 [==============================] - 4s 9ms/step - loss: 0.1840 - accuracy: 0.9320 - val_loss: 0.2710 - val_accuracy: 0.8868\n"
     ]
    },
    {
     "data": {
      "text/plain": [
       "<tensorflow.python.keras.callbacks.History at 0x2b44d112610>"
      ]
     },
     "execution_count": 12,
     "metadata": {},
     "output_type": "execute_result"
    }
   ],
   "source": [
    "model.fit(train_reviews, train_sentiments,\n",
    "          epochs = 20, batch_size = 100, validation_data = (test_reviews, test_sentiments))"
   ]
  }
 ],
 "metadata": {
  "kernelspec": {
   "display_name": "Python 3 (ipykernel)",
   "language": "python",
   "name": "python3"
  },
  "language_info": {
   "codemirror_mode": {
    "name": "ipython",
    "version": 3
   },
   "file_extension": ".py",
   "mimetype": "text/x-python",
   "name": "python",
   "nbconvert_exporter": "python",
   "pygments_lexer": "ipython3",
   "version": "3.9.7"
  }
 },
 "nbformat": 4,
 "nbformat_minor": 5
}

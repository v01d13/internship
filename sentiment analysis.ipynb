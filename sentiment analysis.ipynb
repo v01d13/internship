{
 "cells": [
  {
   "cell_type": "code",
   "execution_count": 1,
   "id": "a3cdd16c",
   "metadata": {},
   "outputs": [],
   "source": [
    "import numpy as np\n",
    "import re\n",
    "import matplotlib.pyplot as plt\n",
    "import pandas as pd\n",
    "import seaborn as sns\n",
    "from sklearn.model_selection import train_test_split\n",
    "from sklearn.feature_extraction.text import TfidfVectorizer, CountVectorizer\n",
    "from keras.preprocessing.sequence import pad_sequences\n",
    "from tensorflow.keras.layers import Dense\n",
    "from tensorflow.keras.models import Sequential\n",
    "from keras.preprocessing.text import Tokenizer"
   ]
  },
  {
   "cell_type": "code",
   "execution_count": 2,
   "id": "21a79392",
   "metadata": {},
   "outputs": [],
   "source": [
    "def preprocessing_text(texts):\n",
    "    texts = re.sub(r'<.*?>', '', texts)\n",
    "    texts = re.sub(r'[^a-zA-Z]', ' ', texts)\n",
    "    return ' '.join(x.lower() for x in texts.split())"
   ]
  },
  {
   "cell_type": "code",
   "execution_count": 3,
   "id": "0bc8bb0a",
   "metadata": {},
   "outputs": [
    {
     "data": {
      "text/html": [
       "<div>\n",
       "<style scoped>\n",
       "    .dataframe tbody tr th:only-of-type {\n",
       "        vertical-align: middle;\n",
       "    }\n",
       "\n",
       "    .dataframe tbody tr th {\n",
       "        vertical-align: top;\n",
       "    }\n",
       "\n",
       "    .dataframe thead th {\n",
       "        text-align: right;\n",
       "    }\n",
       "</style>\n",
       "<table border=\"1\" class=\"dataframe\">\n",
       "  <thead>\n",
       "    <tr style=\"text-align: right;\">\n",
       "      <th></th>\n",
       "      <th>review</th>\n",
       "      <th>sentiment</th>\n",
       "    </tr>\n",
       "  </thead>\n",
       "  <tbody>\n",
       "    <tr>\n",
       "      <th>0</th>\n",
       "      <td>One of the other reviewers has mentioned that ...</td>\n",
       "      <td>positive</td>\n",
       "    </tr>\n",
       "    <tr>\n",
       "      <th>1</th>\n",
       "      <td>A wonderful little production. &lt;br /&gt;&lt;br /&gt;The...</td>\n",
       "      <td>positive</td>\n",
       "    </tr>\n",
       "    <tr>\n",
       "      <th>2</th>\n",
       "      <td>I thought this was a wonderful way to spend ti...</td>\n",
       "      <td>positive</td>\n",
       "    </tr>\n",
       "    <tr>\n",
       "      <th>3</th>\n",
       "      <td>Basically there's a family where a little boy ...</td>\n",
       "      <td>negative</td>\n",
       "    </tr>\n",
       "    <tr>\n",
       "      <th>4</th>\n",
       "      <td>Petter Mattei's \"Love in the Time of Money\" is...</td>\n",
       "      <td>positive</td>\n",
       "    </tr>\n",
       "  </tbody>\n",
       "</table>\n",
       "</div>"
      ],
      "text/plain": [
       "                                              review sentiment\n",
       "0  One of the other reviewers has mentioned that ...  positive\n",
       "1  A wonderful little production. <br /><br />The...  positive\n",
       "2  I thought this was a wonderful way to spend ti...  positive\n",
       "3  Basically there's a family where a little boy ...  negative\n",
       "4  Petter Mattei's \"Love in the Time of Money\" is...  positive"
      ]
     },
     "execution_count": 3,
     "metadata": {},
     "output_type": "execute_result"
    }
   ],
   "source": [
    "df = pd.read_csv(\"IMDB Dataset.csv\")\n",
    "\n",
    "df.head()"
   ]
  },
  {
   "cell_type": "code",
   "execution_count": 4,
   "id": "1279dfc4",
   "metadata": {},
   "outputs": [],
   "source": [
    "df['review_cleaned'] = df['review'].apply(lambda x : preprocessing_text(x))"
   ]
  },
  {
   "cell_type": "code",
   "execution_count": 5,
   "id": "f78bbc53",
   "metadata": {
    "scrolled": true
   },
   "outputs": [],
   "source": [
    "X_train, X_test, y_train, y_test = train_test_split(df['review_cleaned'], df['sentiment'].map({'negative':0, 'positive':1}))"
   ]
  },
  {
   "cell_type": "code",
   "execution_count": 6,
   "id": "3f2832e3",
   "metadata": {
    "scrolled": true
   },
   "outputs": [
    {
     "data": {
      "text/plain": [
       "'i thought this was a wonderful way to spend time on a too hot summer weekend sitting in the air conditioned theater and watching a light hearted comedy the plot is simplistic but the dialogue is witty and the characters are likable even the well bread suspected serial killer while some may be disappointed when they realize this is not match point risk addiction i thought it was proof that woody allen is still fully in control of the style many of us have grown to love this was the most i d laugh'"
      ]
     },
     "execution_count": 6,
     "metadata": {},
     "output_type": "execute_result"
    }
   ],
   "source": [
    "df['review_cleaned_500'] = df['review_cleaned'].apply(lambda x:x[:500])\n",
    "\n",
    "df['review_cleaned_500'][2]"
   ]
  },
  {
   "cell_type": "code",
   "execution_count": 7,
   "id": "5fd60bc2",
   "metadata": {},
   "outputs": [],
   "source": [
    "tokenizer = Tokenizer(num_words=10000)"
   ]
  },
  {
   "cell_type": "code",
   "execution_count": 8,
   "id": "49f16a6d",
   "metadata": {
    "scrolled": true
   },
   "outputs": [
    {
     "name": "stdout",
     "output_type": "stream",
     "text": [
      "X_shape: (50000, 116), X_min: 0, X_max: 9999\n"
     ]
    }
   ],
   "source": [
    "tokenizer.fit_on_texts(df['review_cleaned_500'])\n",
    "seq = tokenizer.texts_to_sequences(df['review_cleaned_500'])\n",
    "X = pad_sequences(seq, padding='post')\n",
    "\n",
    "print(f'X_shape: {X.shape}, X_min: {np.min(X)}, X_max: {np.max(X)}')"
   ]
  },
  {
   "cell_type": "code",
   "execution_count": 9,
   "id": "3f6c113b",
   "metadata": {},
   "outputs": [],
   "source": [
    "y = df['sentiment'].map({'negative' : 0, 'positive' : 1}).values"
   ]
  },
  {
   "cell_type": "code",
   "execution_count": 10,
   "id": "e1b6c505",
   "metadata": {},
   "outputs": [],
   "source": [
    "X_train, X_test, y_train, y_test = train_test_split(X, y, test_size=0.25, random_state=13)"
   ]
  },
  {
   "cell_type": "code",
   "execution_count": 11,
   "id": "67c99226",
   "metadata": {},
   "outputs": [],
   "source": [
    "n_words = X_train.shape[1]"
   ]
  },
  {
   "cell_type": "code",
   "execution_count": 12,
   "id": "031d45dd",
   "metadata": {
    "scrolled": true
   },
   "outputs": [],
   "source": [
    "model = Sequential()\n",
    "model.add(Dense(50, input_shape=(n_words,), activation='relu'))\n",
    "model.add(Dense(1, activation='sigmoid'))\n",
    "# compile network\n",
    "model.compile(loss='binary_crossentropy', optimizer='adam', metrics=['accuracy'])"
   ]
  },
  {
   "cell_type": "code",
   "execution_count": 13,
   "id": "250e4cd0",
   "metadata": {},
   "outputs": [
    {
     "name": "stdout",
     "output_type": "stream",
     "text": [
      "Epoch 1/20\n",
      "586/586 [==============================] - 2s 3ms/step - loss: 243.3105 - accuracy: 0.5000 - val_loss: 55.1101 - val_accuracy: 0.5045\n",
      "Epoch 2/20\n",
      "586/586 [==============================] - 2s 3ms/step - loss: 36.6518 - accuracy: 0.5179 - val_loss: 10.2884 - val_accuracy: 0.4985\n",
      "Epoch 3/20\n",
      "586/586 [==============================] - 2s 3ms/step - loss: 8.5216 - accuracy: 0.5131 - val_loss: 6.2898 - val_accuracy: 0.5074\n",
      "Epoch 4/20\n",
      "586/586 [==============================] - 2s 3ms/step - loss: 5.2541 - accuracy: 0.5077 - val_loss: 4.2644 - val_accuracy: 0.5026\n",
      "Epoch 5/20\n",
      "586/586 [==============================] - 1s 2ms/step - loss: 4.7215 - accuracy: 0.5021 - val_loss: 3.3641 - val_accuracy: 0.5037\n",
      "Epoch 6/20\n",
      "586/586 [==============================] - 1s 2ms/step - loss: 3.5354 - accuracy: 0.5059 - val_loss: 3.8438 - val_accuracy: 0.5005\n",
      "Epoch 7/20\n",
      "586/586 [==============================] - 1s 2ms/step - loss: 3.6348 - accuracy: 0.5117 - val_loss: 2.7203 - val_accuracy: 0.4964\n",
      "Epoch 8/20\n",
      "586/586 [==============================] - 1s 2ms/step - loss: 3.1853 - accuracy: 0.5107 - val_loss: 3.4907 - val_accuracy: 0.5069\n",
      "Epoch 9/20\n",
      "586/586 [==============================] - 1s 2ms/step - loss: 3.4477 - accuracy: 0.5084 - val_loss: 3.2931 - val_accuracy: 0.4950\n",
      "Epoch 10/20\n",
      "586/586 [==============================] - 1s 2ms/step - loss: 2.8360 - accuracy: 0.5063 - val_loss: 2.2961 - val_accuracy: 0.4966\n",
      "Epoch 11/20\n",
      "586/586 [==============================] - 1s 3ms/step - loss: 2.7140 - accuracy: 0.5154 - val_loss: 2.1481 - val_accuracy: 0.5038\n",
      "Epoch 12/20\n",
      "586/586 [==============================] - 1s 2ms/step - loss: 2.7656 - accuracy: 0.5064 - val_loss: 1.8423 - val_accuracy: 0.5066\n",
      "Epoch 13/20\n",
      "586/586 [==============================] - 1s 2ms/step - loss: 2.0870 - accuracy: 0.5084 - val_loss: 2.1982 - val_accuracy: 0.5032\n",
      "Epoch 14/20\n",
      "586/586 [==============================] - 1s 2ms/step - loss: 1.9898 - accuracy: 0.5120 - val_loss: 1.3878 - val_accuracy: 0.4987\n",
      "Epoch 15/20\n",
      "586/586 [==============================] - 2s 3ms/step - loss: 1.9587 - accuracy: 0.5109 - val_loss: 2.1489 - val_accuracy: 0.5038\n",
      "Epoch 16/20\n",
      "586/586 [==============================] - 2s 4ms/step - loss: 1.8111 - accuracy: 0.5127 - val_loss: 1.7414 - val_accuracy: 0.5082\n",
      "Epoch 17/20\n",
      "586/586 [==============================] - 2s 3ms/step - loss: 1.7681 - accuracy: 0.5156 - val_loss: 1.6698 - val_accuracy: 0.5047\n",
      "Epoch 18/20\n",
      "586/586 [==============================] - 2s 3ms/step - loss: 1.6502 - accuracy: 0.5142 - val_loss: 1.7287 - val_accuracy: 0.5010\n",
      "Epoch 19/20\n",
      "586/586 [==============================] - 1s 3ms/step - loss: 1.6498 - accuracy: 0.5176 - val_loss: 1.3402 - val_accuracy: 0.5038\n",
      "Epoch 20/20\n",
      "586/586 [==============================] - 2s 4ms/step - loss: 1.3552 - accuracy: 0.5174 - val_loss: 1.0847 - val_accuracy: 0.5121\n"
     ]
    }
   ],
   "source": [
    "model.compile(loss = 'binary_crossentropy', optimizer = 'adam', metrics = ['accuracy'])\n",
    "history = model.fit(X_train, y_train, epochs = 20, batch_size = 64, validation_data = (X_test, y_test))"
   ]
  }
 ],
 "metadata": {
  "kernelspec": {
   "display_name": "gputest",
   "language": "python",
   "name": "gputest"
  },
  "language_info": {
   "codemirror_mode": {
    "name": "ipython",
    "version": 3
   },
   "file_extension": ".py",
   "mimetype": "text/x-python",
   "name": "python",
   "nbconvert_exporter": "python",
   "pygments_lexer": "ipython3",
   "version": "3.7.7"
  }
 },
 "nbformat": 4,
 "nbformat_minor": 5
}
